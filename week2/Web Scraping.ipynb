{
 "cells": [
  {
   "cell_type": "code",
   "execution_count": 2,
   "metadata": {
    "collapsed": false
   },
   "outputs": [],
   "source": [
    "from lxml.html import parse\n",
    "from urllib2 import urlopen\n",
    "\n",
    "parsed = parse(urlopen('http://finance.yahoo.com/q/op?s=VZ+Options'))\n",
    "\n",
    "doc = parsed.getroot()\n"
   ]
  },
  {
   "cell_type": "code",
   "execution_count": null,
   "metadata": {
    "collapsed": true
   },
   "outputs": [],
   "source": []
  },
  {
   "cell_type": "code",
   "execution_count": 4,
   "metadata": {
    "collapsed": false
   },
   "outputs": [],
   "source": [
    "links = doc.findall(\".//a\")"
   ]
  },
  {
   "cell_type": "code",
   "execution_count": 5,
   "metadata": {
    "collapsed": false
   },
   "outputs": [
    {
     "data": {
      "text/plain": [
       "[<Element a at 0x103e9fd60>,\n",
       " <Element a at 0x103e9fdb8>,\n",
       " <Element a at 0x103e9fe10>,\n",
       " <Element a at 0x103e9fe68>,\n",
       " <Element a at 0x103e9fec0>,\n",
       " <Element a at 0x103e9ff18>,\n",
       " <Element a at 0x103e9ff70>,\n",
       " <Element a at 0x103e9ffc8>,\n",
       " <Element a at 0x105c6c050>,\n",
       " <Element a at 0x105c6c0a8>,\n",
       " <Element a at 0x105c6c100>,\n",
       " <Element a at 0x105c6c158>,\n",
       " <Element a at 0x105c6c1b0>,\n",
       " <Element a at 0x105c6c208>,\n",
       " <Element a at 0x105c6c260>,\n",
       " <Element a at 0x105c6c2b8>,\n",
       " <Element a at 0x105c6c310>,\n",
       " <Element a at 0x105c6c368>,\n",
       " <Element a at 0x105c6c3c0>,\n",
       " <Element a at 0x105c6c418>,\n",
       " <Element a at 0x105c6c470>,\n",
       " <Element a at 0x105c6c4c8>,\n",
       " <Element a at 0x105c6c520>,\n",
       " <Element a at 0x105c6c578>,\n",
       " <Element a at 0x105c6c5d0>,\n",
       " <Element a at 0x105c6c628>,\n",
       " <Element a at 0x105c6c680>,\n",
       " <Element a at 0x105c6c6d8>,\n",
       " <Element a at 0x105c6c730>,\n",
       " <Element a at 0x105c6c788>,\n",
       " <Element a at 0x105c6c7e0>,\n",
       " <Element a at 0x105c6c838>,\n",
       " <Element a at 0x105c6c890>,\n",
       " <Element a at 0x105c6c8e8>,\n",
       " <Element a at 0x105c6c940>,\n",
       " <Element a at 0x105c6c998>,\n",
       " <Element a at 0x105c6c9f0>,\n",
       " <Element a at 0x105c6ca48>,\n",
       " <Element a at 0x105c6caa0>,\n",
       " <Element a at 0x105c6caf8>,\n",
       " <Element a at 0x105c6cb50>,\n",
       " <Element a at 0x105c6cba8>,\n",
       " <Element a at 0x105c6cc00>,\n",
       " <Element a at 0x105c6cc58>,\n",
       " <Element a at 0x105c6ccb0>,\n",
       " <Element a at 0x105c6cd08>,\n",
       " <Element a at 0x105c6cd60>,\n",
       " <Element a at 0x105c6cdb8>,\n",
       " <Element a at 0x105c6ce10>,\n",
       " <Element a at 0x105c6ce68>,\n",
       " <Element a at 0x105c6cec0>,\n",
       " <Element a at 0x105c6cf18>,\n",
       " <Element a at 0x105c6cf70>,\n",
       " <Element a at 0x105c6cfc8>,\n",
       " <Element a at 0x105c6f050>,\n",
       " <Element a at 0x105c6f0a8>,\n",
       " <Element a at 0x105c6f100>,\n",
       " <Element a at 0x105c6f158>,\n",
       " <Element a at 0x105c6f1b0>,\n",
       " <Element a at 0x105c6f208>,\n",
       " <Element a at 0x105c6f260>,\n",
       " <Element a at 0x105c6f2b8>,\n",
       " <Element a at 0x105c6f310>,\n",
       " <Element a at 0x105c6f368>,\n",
       " <Element a at 0x105c6f3c0>,\n",
       " <Element a at 0x105c6f418>,\n",
       " <Element a at 0x105c6f470>,\n",
       " <Element a at 0x105c6f4c8>,\n",
       " <Element a at 0x105c6f520>,\n",
       " <Element a at 0x105c6f578>,\n",
       " <Element a at 0x105c6f5d0>,\n",
       " <Element a at 0x105c6f628>,\n",
       " <Element a at 0x105c6f680>,\n",
       " <Element a at 0x105c6f6d8>,\n",
       " <Element a at 0x105c6f730>,\n",
       " <Element a at 0x105c6f788>,\n",
       " <Element a at 0x105c6f7e0>,\n",
       " <Element a at 0x105c6f838>,\n",
       " <Element a at 0x105c6f890>,\n",
       " <Element a at 0x105c6f8e8>,\n",
       " <Element a at 0x105c6f940>,\n",
       " <Element a at 0x105c6f998>,\n",
       " <Element a at 0x105c6f9f0>,\n",
       " <Element a at 0x105c6fa48>,\n",
       " <Element a at 0x105c6faa0>,\n",
       " <Element a at 0x105c6faf8>,\n",
       " <Element a at 0x105c6fb50>,\n",
       " <Element a at 0x105c6fba8>,\n",
       " <Element a at 0x105c6fc00>,\n",
       " <Element a at 0x105c6fc58>,\n",
       " <Element a at 0x105c6fcb0>,\n",
       " <Element a at 0x105c6fd08>,\n",
       " <Element a at 0x105c6fd60>,\n",
       " <Element a at 0x105c6fdb8>,\n",
       " <Element a at 0x105c6fe10>,\n",
       " <Element a at 0x105c6fe68>,\n",
       " <Element a at 0x105c6fec0>,\n",
       " <Element a at 0x105c6ff18>,\n",
       " <Element a at 0x105c6ff70>,\n",
       " <Element a at 0x105c6ffc8>,\n",
       " <Element a at 0x105c70050>,\n",
       " <Element a at 0x105c700a8>,\n",
       " <Element a at 0x105c70100>,\n",
       " <Element a at 0x105c70158>,\n",
       " <Element a at 0x105c701b0>,\n",
       " <Element a at 0x105c70208>,\n",
       " <Element a at 0x105c70260>,\n",
       " <Element a at 0x105c702b8>,\n",
       " <Element a at 0x105c70310>,\n",
       " <Element a at 0x105c70368>,\n",
       " <Element a at 0x105c703c0>,\n",
       " <Element a at 0x105c70418>,\n",
       " <Element a at 0x105c70470>,\n",
       " <Element a at 0x105c704c8>,\n",
       " <Element a at 0x105c70520>,\n",
       " <Element a at 0x105c70578>,\n",
       " <Element a at 0x105c705d0>,\n",
       " <Element a at 0x105c70628>,\n",
       " <Element a at 0x105c70680>,\n",
       " <Element a at 0x105c706d8>,\n",
       " <Element a at 0x105c70730>,\n",
       " <Element a at 0x105c70788>,\n",
       " <Element a at 0x105c707e0>,\n",
       " <Element a at 0x105c70838>,\n",
       " <Element a at 0x105c70890>,\n",
       " <Element a at 0x105c708e8>,\n",
       " <Element a at 0x105c70940>,\n",
       " <Element a at 0x105c70998>,\n",
       " <Element a at 0x105c709f0>,\n",
       " <Element a at 0x105c70a48>,\n",
       " <Element a at 0x105c70aa0>,\n",
       " <Element a at 0x105c70af8>,\n",
       " <Element a at 0x105c70b50>,\n",
       " <Element a at 0x105c70ba8>,\n",
       " <Element a at 0x105c70c00>,\n",
       " <Element a at 0x105c70c58>,\n",
       " <Element a at 0x105c70cb0>,\n",
       " <Element a at 0x105c70d08>,\n",
       " <Element a at 0x105c70d60>,\n",
       " <Element a at 0x105c70db8>,\n",
       " <Element a at 0x105c70e10>,\n",
       " <Element a at 0x105c70e68>,\n",
       " <Element a at 0x105c70ec0>,\n",
       " <Element a at 0x105c70f18>,\n",
       " <Element a at 0x105c70f70>,\n",
       " <Element a at 0x105c70fc8>,\n",
       " <Element a at 0x105c71050>,\n",
       " <Element a at 0x105c710a8>,\n",
       " <Element a at 0x105c71100>,\n",
       " <Element a at 0x105c71158>,\n",
       " <Element a at 0x105c711b0>,\n",
       " <Element a at 0x105c71208>,\n",
       " <Element a at 0x105c71260>,\n",
       " <Element a at 0x105c712b8>,\n",
       " <Element a at 0x105c71310>,\n",
       " <Element a at 0x105c71368>,\n",
       " <Element a at 0x105c713c0>,\n",
       " <Element a at 0x105c71418>,\n",
       " <Element a at 0x105c71470>,\n",
       " <Element a at 0x105c714c8>,\n",
       " <Element a at 0x105c71520>,\n",
       " <Element a at 0x105c71578>,\n",
       " <Element a at 0x105c715d0>,\n",
       " <Element a at 0x105c71628>,\n",
       " <Element a at 0x105c71680>,\n",
       " <Element a at 0x105c716d8>,\n",
       " <Element a at 0x105c71730>,\n",
       " <Element a at 0x105c71788>,\n",
       " <Element a at 0x105c717e0>,\n",
       " <Element a at 0x105c71838>,\n",
       " <Element a at 0x105c71890>,\n",
       " <Element a at 0x105c718e8>,\n",
       " <Element a at 0x105c71940>,\n",
       " <Element a at 0x105c71998>,\n",
       " <Element a at 0x105c719f0>,\n",
       " <Element a at 0x105c71a48>,\n",
       " <Element a at 0x105c71aa0>,\n",
       " <Element a at 0x105c71af8>,\n",
       " <Element a at 0x105c71b50>,\n",
       " <Element a at 0x105c71ba8>,\n",
       " <Element a at 0x105c71c00>,\n",
       " <Element a at 0x105c71c58>,\n",
       " <Element a at 0x105c71cb0>,\n",
       " <Element a at 0x105c71d08>,\n",
       " <Element a at 0x105c71d60>,\n",
       " <Element a at 0x105c71db8>,\n",
       " <Element a at 0x105c71e10>,\n",
       " <Element a at 0x105c71e68>,\n",
       " <Element a at 0x105c71ec0>,\n",
       " <Element a at 0x105c71f18>,\n",
       " <Element a at 0x105c71f70>,\n",
       " <Element a at 0x105c71fc8>,\n",
       " <Element a at 0x105c72050>,\n",
       " <Element a at 0x105c720a8>,\n",
       " <Element a at 0x105c72100>,\n",
       " <Element a at 0x105c72158>,\n",
       " <Element a at 0x105c721b0>,\n",
       " <Element a at 0x105c72208>,\n",
       " <Element a at 0x105c72260>,\n",
       " <Element a at 0x105c722b8>,\n",
       " <Element a at 0x105c72310>,\n",
       " <Element a at 0x105c72368>,\n",
       " <Element a at 0x105c723c0>,\n",
       " <Element a at 0x105c72418>,\n",
       " <Element a at 0x105c72470>,\n",
       " <Element a at 0x105c724c8>,\n",
       " <Element a at 0x105c72520>,\n",
       " <Element a at 0x105c72578>,\n",
       " <Element a at 0x105c725d0>,\n",
       " <Element a at 0x105c72628>,\n",
       " <Element a at 0x105c72680>,\n",
       " <Element a at 0x105c726d8>,\n",
       " <Element a at 0x105c72730>,\n",
       " <Element a at 0x105c72788>,\n",
       " <Element a at 0x105c727e0>,\n",
       " <Element a at 0x105c72838>,\n",
       " <Element a at 0x105c72890>,\n",
       " <Element a at 0x105c728e8>,\n",
       " <Element a at 0x105c72940>,\n",
       " <Element a at 0x105c72998>,\n",
       " <Element a at 0x105c729f0>,\n",
       " <Element a at 0x105c72a48>,\n",
       " <Element a at 0x105c72aa0>,\n",
       " <Element a at 0x105c72af8>,\n",
       " <Element a at 0x105c72b50>,\n",
       " <Element a at 0x105c72ba8>,\n",
       " <Element a at 0x105c72c00>,\n",
       " <Element a at 0x105c72c58>,\n",
       " <Element a at 0x105c72cb0>,\n",
       " <Element a at 0x105c72d08>,\n",
       " <Element a at 0x105c72d60>,\n",
       " <Element a at 0x105c72db8>,\n",
       " <Element a at 0x105c72e10>,\n",
       " <Element a at 0x105c72e68>,\n",
       " <Element a at 0x105c72ec0>,\n",
       " <Element a at 0x105c72f18>,\n",
       " <Element a at 0x105c72f70>,\n",
       " <Element a at 0x105c72fc8>,\n",
       " <Element a at 0x105c73050>,\n",
       " <Element a at 0x105c730a8>,\n",
       " <Element a at 0x105c73100>,\n",
       " <Element a at 0x105c73158>,\n",
       " <Element a at 0x105c731b0>,\n",
       " <Element a at 0x105c73208>,\n",
       " <Element a at 0x105c73260>,\n",
       " <Element a at 0x105c732b8>,\n",
       " <Element a at 0x105c73310>,\n",
       " <Element a at 0x105c73368>,\n",
       " <Element a at 0x105c733c0>,\n",
       " <Element a at 0x105c73418>,\n",
       " <Element a at 0x105c73470>,\n",
       " <Element a at 0x105c734c8>,\n",
       " <Element a at 0x105c73520>,\n",
       " <Element a at 0x105c73578>,\n",
       " <Element a at 0x105c735d0>]"
      ]
     },
     "execution_count": 5,
     "metadata": {},
     "output_type": "execute_result"
    }
   ],
   "source": [
    "links"
   ]
  },
  {
   "cell_type": "code",
   "execution_count": 6,
   "metadata": {
    "collapsed": false
   },
   "outputs": [
    {
     "data": {
      "text/plain": [
       "<Element a at 0x103e9fd60>"
      ]
     },
     "execution_count": 6,
     "metadata": {},
     "output_type": "execute_result"
    }
   ],
   "source": [
    "lnk = links[0]\n",
    "lnk"
   ]
  },
  {
   "cell_type": "code",
   "execution_count": 7,
   "metadata": {
    "collapsed": false
   },
   "outputs": [
    {
     "data": {
      "text/plain": [
       "<Element a at 0x103e9ff18>"
      ]
     },
     "execution_count": 7,
     "metadata": {},
     "output_type": "execute_result"
    }
   ],
   "source": [
    "lnk1= links[5]\n",
    "lnk1"
   ]
  },
  {
   "cell_type": "code",
   "execution_count": 9,
   "metadata": {
    "collapsed": false
   },
   "outputs": [
    {
     "data": {
      "text/plain": [
       "'https://www.yahoo.com/'"
      ]
     },
     "execution_count": 9,
     "metadata": {},
     "output_type": "execute_result"
    }
   ],
   "source": [
    "lnk.get('href')\n"
   ]
  },
  {
   "cell_type": "code",
   "execution_count": 10,
   "metadata": {
    "collapsed": false
   },
   "outputs": [
    {
     "data": {
      "text/plain": [
       "'http://finance.yahoo.com/'"
      ]
     },
     "execution_count": 10,
     "metadata": {},
     "output_type": "execute_result"
    }
   ],
   "source": [
    "lnk1.get('href')"
   ]
  },
  {
   "cell_type": "code",
   "execution_count": 11,
   "metadata": {
    "collapsed": false
   },
   "outputs": [
    {
     "data": {
      "text/plain": [
       "'Home'"
      ]
     },
     "execution_count": 11,
     "metadata": {},
     "output_type": "execute_result"
    }
   ],
   "source": [
    "lnk.text_content()"
   ]
  },
  {
   "cell_type": "code",
   "execution_count": 12,
   "metadata": {
    "collapsed": false
   },
   "outputs": [
    {
     "data": {
      "text/plain": [
       "'Finance'"
      ]
     },
     "execution_count": 12,
     "metadata": {},
     "output_type": "execute_result"
    }
   ],
   "source": [
    "lnk1.text_content()"
   ]
  },
  {
   "cell_type": "code",
   "execution_count": 21,
   "metadata": {
    "collapsed": true
   },
   "outputs": [],
   "source": [
    "from bs4 import BeautifulSoup\n",
    "import requests\n",
    "import html5lib"
   ]
  },
  {
   "cell_type": "code",
   "execution_count": 28,
   "metadata": {
    "collapsed": false
   },
   "outputs": [],
   "source": [
    "url = \"http://shop.oreilly.com/category/browse-subjects/data.do?sortby=publicationDate&page=1\"\n",
    "\n",
    "soup = BeautifulSoup(requests.get(url).text, 'html5lib')"
   ]
  },
  {
   "cell_type": "code",
   "execution_count": 29,
   "metadata": {
    "collapsed": false
   },
   "outputs": [
    {
     "name": "stdout",
     "output_type": "stream",
     "text": [
      "30\n"
     ]
    }
   ],
   "source": [
    "tds = soup('td', 'thumbtext')\n",
    "print len(tds)"
   ]
  },
  {
   "cell_type": "code",
   "execution_count": null,
   "metadata": {
    "collapsed": true
   },
   "outputs": [],
   "source": []
  }
 ],
 "metadata": {
  "kernelspec": {
   "display_name": "Python 2",
   "language": "python",
   "name": "python2"
  },
  "language_info": {
   "codemirror_mode": {
    "name": "ipython",
    "version": 2
   },
   "file_extension": ".py",
   "mimetype": "text/x-python",
   "name": "python",
   "nbconvert_exporter": "python",
   "pygments_lexer": "ipython2",
   "version": "2.7.11"
  }
 },
 "nbformat": 4,
 "nbformat_minor": 0
}
